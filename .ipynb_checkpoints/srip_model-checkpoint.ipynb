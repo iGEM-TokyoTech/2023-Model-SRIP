{
 "cells": [
  {
   "cell_type": "code",
   "execution_count": 66,
   "id": "28a79741-0d13-4ab9-88eb-d64e6a2d8edd",
   "metadata": {
    "tags": []
   },
   "outputs": [],
   "source": [
    "import numpy as np\n",
    "from scipy.integrate import solve_ivp\n",
    "from time import time\n",
    "import matplotlib.pyplot as plt\n",
    "import pandas as pd\n",
    "import math\n",
    "from scipy.optimize import minimize\n",
    "from scipy.optimize import curve_fit\n",
    "\n",
    "# import cupy as cp"
   ]
  },
  {
   "cell_type": "code",
   "execution_count": 37,
   "id": "838a9396-4b34-4142-885e-f6f6e9c87167",
   "metadata": {
    "tags": []
   },
   "outputs": [],
   "source": [
    "t_min = 0\n",
    "t_end = 24 * 6"
   ]
  },
  {
   "cell_type": "markdown",
   "id": "55d887af-bd0c-40a9-ab31-df3baf025cca",
   "metadata": {},
   "source": [
    "動かせる範囲\n",
    "- Ser\n",
    "    - 動かせる\n",
    "    - いったん正の範囲\n",
    "    - 感覚的には 0~1000\n",
    "- X_max\n",
    "    - 動かせる\n",
    "    - 1.3*1e6 が最大値\n",
    "\n",
    "- K_ser\n",
    "    - 動かない\n",
    "- P\n",
    "    - 動かない"
   ]
  },
  {
   "cell_type": "code",
   "execution_count": 75,
   "id": "3123ed33-6ce4-4b2e-9744-76fa0e70c483",
   "metadata": {
    "tags": []
   },
   "outputs": [],
   "source": [
    "# P = math.log(2)/24\n",
    "# X_max = 1.3*10**6\n",
    "# Ser = 1\n",
    "# K_ser = 0\n",
    "# k_DNA = math.log(2)/24\n",
    "# k_s = 3e-2\n",
    "# k_dRNA = 3e-2\n",
    "# k_vp = 1e-2\n",
    "# K_RNA = 0.2*10**4\n",
    "# k_a = 7.8*10**(-8)\n",
    "# const = 0.25\n",
    "\n",
    "\n",
    "# X0 = 0.2 * 1e6  # Xの初期値を適切に設定してください\n",
    "# # DNA0 = 5.5 * 1e4  # Okumura\n",
    "# DNA0 = 2.0 * 1e11\n",
    "\n",
    "# DNA0 = DNA0 / X0 * 0.8\n",
    "# RNA0 = 0.0  # Okumura\n",
    "# SRIP0 = 0.0  # SRIPの初期値を適切に設定してください"
   ]
  },
  {
   "cell_type": "markdown",
   "id": "1ee6fe3d-c2f5-4c0d-b4d4-cf0e95258de6",
   "metadata": {},
   "source": [
    "# SRIP Producing Cell"
   ]
  },
  {
   "cell_type": "code",
   "execution_count": 26,
   "id": "efed1287-ffca-4f11-817b-13264629ce1d",
   "metadata": {
    "tags": []
   },
   "outputs": [],
   "source": [
    "# # 微分方程式の定義\n",
    "# def model(t, X):\n",
    "#     dXdt = P * X * (X_max - X) / X_max * Ser / (Ser + K_ser)\n",
    "#     return dXdt\n",
    "\n",
    "# # solve_ivpを使用して微分方程式を解く\n",
    "# sol_cell = solve_ivp(model, [t_min, t_end], [X0], t_eval=np.linspace(t_min, t_end, 1000))\n",
    "\n",
    "# # 結果のプロット\n",
    "# plt.plot(sol_cell.t, sol_cell.y[0])\n",
    "# plt.xlabel('Time')\n",
    "# plt.ylabel('X')\n",
    "# plt.title('Simulation of the differential equation')\n",
    "# plt.grid(True)\n",
    "# plt.show()"
   ]
  },
  {
   "cell_type": "markdown",
   "id": "32bce90a-578c-4fae-99f7-f7088e5b2ed3",
   "metadata": {},
   "source": [
    "# DNA & RNA"
   ]
  },
  {
   "cell_type": "code",
   "execution_count": 27,
   "id": "1434a6b3-d186-4264-8b3c-87b77b1ae8de",
   "metadata": {
    "tags": []
   },
   "outputs": [],
   "source": [
    "# # 微分方程式系の定義\n",
    "# def model(t, y):\n",
    "#     DNA, RNA = y\n",
    "#     dDNAdt = -k_DNA * DNA\n",
    "#     dRNAdt = k_s * DNA - k_dRNA * RNA\n",
    "    \n",
    "#     return [dDNAdt, dRNAdt]\n",
    "\n",
    "# # solve_ivpを使用して微分方程式系を解く\n",
    "# sol_rna = solve_ivp(model, [t_min, t_end], [DNA0, RNA0], t_eval=np.linspace(t_min, t_end, 1000))\n",
    "\n",
    "# # 結果のプロット\n",
    "# plt.plot(sol_rna.t, sol_rna.y[0], label='DNA')\n",
    "# plt.plot(sol_rna.t, sol_rna.y[1], label='RNA')\n",
    "# plt.xlabel('Time')\n",
    "# plt.ylabel('Concentration')\n",
    "# plt.title('Simulation of the differential equation system')\n",
    "# plt.legend()\n",
    "# plt.grid(True)\n",
    "# plt.show()"
   ]
  },
  {
   "cell_type": "markdown",
   "id": "dde0d662-3484-409d-9c8b-5287aa226c83",
   "metadata": {},
   "source": [
    "# SRIP"
   ]
  },
  {
   "cell_type": "code",
   "execution_count": 28,
   "id": "de2663da-45bb-4b93-80b3-edb6f181078f",
   "metadata": {
    "tags": []
   },
   "outputs": [],
   "source": [
    "# # RNAとXの値が格納されているndarray\n",
    "# # これらは前に計算された値であると仮定します\n",
    "# RNA_values = sol_rna.y[1]  # RNAの値を適切に設定してください\n",
    "# X_values = sol_cell.y[0]  # Xの値を適切に設定してください\n",
    "\n",
    "# # 微分方程式系の定義\n",
    "# def model(t, SRIP):\n",
    "#     # 時間tにおけるRNAとXの値を取得\n",
    "#     idx = np.searchsorted(sol_rna.t, t, side='right') - 1\n",
    "#     RNA = RNA_values[idx]\n",
    "#     X = X_values[idx]\n",
    "    \n",
    "#     # SRIPの微分方程式\n",
    "#     # dSRIPdt = k_vp * RNA / (RNA + K_RNA) * X - k_a * SRIP * X\n",
    "#     dSRIPdt = k_vp * RNA / (RNA + K_RNA) * X\n",
    "    \n",
    "#     return dSRIPdt\n",
    "\n",
    "# # solve_ivpを使用して微分方程式系を解く\n",
    "# sol = solve_ivp(model, [t_min, t_end], [SRIP0], t_eval=np.linspace(t_min, t_end, 1000))\n",
    "\n",
    "# # 結果のプロット\n",
    "# fig = plt.figure()\n",
    "# ax = fig.add_subplot(1, 1, 1)\n",
    "# ax.plot(sol.t, sol.y[0], label='SRIP')\n",
    "# ax.set_xlabel('Time')\n",
    "# ax.set_ylabel('Concentration')\n",
    "# ax.set_title('Simulation of the differential equation system')\n",
    "# ax.axvline(x=48, color='b')\n",
    "# ax.axvline(x=72, color='b')\n",
    "# ax.set_ylim(0, 5e7)\n",
    "\n",
    "\n",
    "# plt.legend()\n",
    "# plt.grid(True)\n",
    "# plt.show()"
   ]
  },
  {
   "cell_type": "markdown",
   "id": "6f615aad-1216-409c-bd1a-91ca43143230",
   "metadata": {},
   "source": [
    "# まとめて"
   ]
  },
  {
   "cell_type": "markdown",
   "id": "c5f4018a-d0ab-4e81-8e8b-ee8a013633a4",
   "metadata": {},
   "source": [
    "x = SRIP\n",
    "dx/dt = k_{vp} * X - k_a * X * x\n",
    "dx/dt + (k_a * X) * x = k_{vp} * X\n",
    "x(t) = C*exp(-(k_a * X)t) + hoge\n",
    "hoge = X*10^5"
   ]
  },
  {
   "cell_type": "code",
   "execution_count": 92,
   "id": "c0f349bc-1a1c-45ed-98da-90852fdc221a",
   "metadata": {
    "tags": []
   },
   "outputs": [],
   "source": [
    "P = math.log(2)/24\n",
    "X_max = 1.3*10**6\n",
    "Ser = 1\n",
    "K_ser = 1\n",
    "k_DNA = math.log(2)/24\n",
    "k_s = 3e-3\n",
    "k_dRNA = 3e-2\n",
    "k_vp = 1e-2\n",
    "K_RNA = 0.2*10**4\n",
    "k_a = 7.8*10**(-8)\n",
    "const = 0.25\n",
    "\n",
    "\n",
    "X0 = 0.2 * 1e6  # Xの初期値を適切に設定してください\n",
    "# DNA0 = 5.5 * 1e4  # Okumura\n",
    "DNA0 = 2.0 * 1e11\n",
    "\n",
    "DNA0 = DNA0 / X0 * 0.8\n",
    "RNA0 = 0.0  # Okumura\n",
    "SRIP0 = 0.0  # SRIPの初期値を適切に設定してください\n",
    "y0 = [X0, DNA0, RNA0, SRIP0]"
   ]
  },
  {
   "cell_type": "code",
   "execution_count": 96,
   "id": "76977911-bfd5-467c-91b6-28800689c74a",
   "metadata": {
    "tags": []
   },
   "outputs": [
    {
     "data": {
      "image/png": "[encoded data removed]",
      "text/plain": [
       "<Figure size 640x480 with 1 Axes>"
      ]
     },
     "metadata": {},
     "output_type": "display_data"
    }
   ],
   "source": [
    "# 微分方程式系の定義\n",
    "def model(t, y):\n",
    "    X, DNA, RNA, SRIP = y\n",
    "    if X < 0:\n",
    "        X = 0\n",
    "    dXdt = P * X * (X_max - X) / X_max * Ser / (Ser + K_ser) - const * SRIP\n",
    "    dDNAdt = -k_DNA * DNA\n",
    "    dRNAdt = k_s * DNA - k_dRNA * RNA\n",
    "    # dSRIPdt = k_vp * RNA / (RNA + K_RNA) * X - k_a * SRIP * X\n",
    "    dSRIPdt = k_vp * RNA / (RNA + K_RNA) * X\n",
    "    \n",
    "    return [dXdt, dDNAdt, dRNAdt, dSRIPdt]\n",
    "\n",
    "# solve_ivpを使って数値解を求める\n",
    "sol = solve_ivp(model, [t_min, t_end], y0, t_eval=np.linspace(t_min, t_end, 1000))\n",
    "\n",
    "# グラフ描画\n",
    "fig = plt.figure()\n",
    "ax = fig.add_subplot(1, 1, 1)\n",
    "ax.plot(sol.t, sol.y[0], label='X')\n",
    "ax.plot(sol.t, sol.y[1], label='DNA')\n",
    "ax.plot(sol.t, sol.y[2], label='RNA')\n",
    "ax.plot(sol.t, sol.y[3], label='SRIP', color='pink')\n",
    "\n",
    "ax.axvline(x=24, color='b')\n",
    "ax.axvline(x=24*2, color='b')\n",
    "ax.axvline(x=24*3, color='b')\n",
    "\n",
    "ax.legend(loc='best')\n",
    "ax.set_xlabel('Time')\n",
    "ax.set_ylabel('Quantity')\n",
    "ax.set_ylim(0, 5e5)\n",
    "plt.show()"
   ]
  },
  {
   "cell_type": "markdown",
   "id": "51852bbe-91d2-4b57-9199-0a9a251d4260",
   "metadata": {
    "tags": []
   },
   "source": [
    "# fitting to experiment data"
   ]
  },
  {
   "cell_type": "code",
   "execution_count": 57,
   "id": "081a70da-695d-4e39-8d2b-f51e1cbd052e",
   "metadata": {
    "tags": []
   },
   "outputs": [
    {
     "data": {
      "text/plain": [
       "array([[     0.       ,      0.       ,      0.       ],\n",
       "       [  8639.484308 ,   3599.785128 ,   5039.69918  ],\n",
       "       [253424.873008 ,  62636.261228 , 287982.81028  ],\n",
       "       [272863.712698 ,  68395.917433 , 305981.73592  ],\n",
       "       [275023.583775 , 134631.963793 , 306701.6929457],\n",
       "       [276463.497826 , 134631.963793 , 307421.6499714]])"
      ]
     },
     "execution_count": 57,
     "metadata": {},
     "output_type": "execute_result"
    }
   ],
   "source": [
    "data = pd.read_csv('experiment.csv')\n",
    "data = [[0] + data[str(i)].to_list()[:6] for i in range(1, 4)]\n",
    "data = [[data[0][i], data[1][i], data[2][i]] for i in range(6)]\n",
    "# data = [[data[0][i], data[2][i]] for i in range(6)]\n",
    "\n",
    "data = np.cumsum(data, axis=0)\n",
    "data"
   ]
  },
  {
   "cell_type": "code",
   "execution_count": 72,
   "id": "6cc8b559-ef75-46ae-9f76-dccbd228c66e",
   "metadata": {
    "tags": []
   },
   "outputs": [
    {
     "data": {
      "text/plain": [
       "array([     0.      ,   8639.484308, 253424.873008, 272863.712698,\n",
       "       275023.583775, 276463.497826])"
      ]
     },
     "execution_count": 72,
     "metadata": {},
     "output_type": "execute_result"
    }
   ],
   "source": [
    "data[:, 0]"
   ]
  },
  {
   "cell_type": "code",
   "execution_count": 58,
   "id": "1ea833c4-309d-4b6b-b4a8-11b48f1b4e08",
   "metadata": {
    "tags": []
   },
   "outputs": [
    {
     "data": {
      "image/png": "[encoded data removed]",
      "text/plain": [
       "<Figure size 640x480 with 1 Axes>"
      ]
     },
     "metadata": {},
     "output_type": "display_data"
    }
   ],
   "source": [
    "fig = plt.figure()\n",
    "ax = fig.add_subplot(1, 1, 1)\n",
    "\n",
    "for i in range(6):\n",
    "    datum = data[i]\n",
    "    for j in range(len(data[i])):\n",
    "        ax.plot(24 * i, datum[j], '.')\n",
    "ax.set_ylim(0, 5e5)\n",
    "plt.show()"
   ]
  },
  {
   "cell_type": "code",
   "execution_count": 64,
   "id": "42d5b7a5-8a9e-44c6-a8e4-28a65c11460a",
   "metadata": {
    "tags": []
   },
   "outputs": [],
   "source": [
    "# # 実験データ\n",
    "# t_data = np.array([24*i for i in range(6)])  # 実験データの時間点\n",
    "\n",
    "# # 微分方程式系の定義\n",
    "# def model(t, y, Ser, X_max, k):\n",
    "#     X, DNA, RNA, SRIP = y\n",
    "#     if X < 0:\n",
    "#         X = 0\n",
    "#     dXdt = P * X * (X_max - X) / X_max * Ser / (Ser + K_ser) - const * SRIP\n",
    "#     dDNAdt = -k_DNA * DNA\n",
    "#     dRNAdt = k_s * DNA - k_dRNA * RNA\n",
    "#     # dSRIPdt = k_vp * RNA / (RNA + K_RNA) * X - k_a * SRIP * X\n",
    "#     dSRIPdt = k_vp * RNA / (RNA + K_RNA) * X\n",
    "    \n",
    "#     return [dXdt, dDNAdt, dRNAdt, dSRIPdt]\n",
    "\n",
    "# # 誤差関数の定義\n",
    "# def objective(params):\n",
    "#     Ser, X_max, k = params\n",
    "#     sol = solve_ivp(model, [t_min, t_end], y0, args=(Ser, X_max, k), t_eval=t_data, method='RK45')\n",
    "\n",
    "#     model_output = sol.y[-1] # SRIP\n",
    "#     experiment_data = np.mean(SRIP_data, axis=1)\n",
    "    \n",
    "#     error = np.sum((model_output - experiment_data) ** 2)\n",
    "    \n",
    "#     return error\n",
    "\n",
    "\n",
    "# # 最適化の実行\n",
    "# initial_params = [10, 1.0e6, 0.25] # Ser, X_max, k\n",
    "# y0 = [0.2 * 1e6, 2.0 * 1e11, 0.0, 0]  # X, DNA, RNA, SRIP\n",
    "\n",
    "# result = minimize(objective, initial_params, bounds=[(0, 1e3), (0, 1.3 * 1e6), (0, 1)])\n",
    "# optimized_params = result.x"
   ]
  },
  {
   "cell_type": "code",
   "execution_count": 73,
   "id": "8da0837a-2712-4ce0-85dd-4c4a485c43b0",
   "metadata": {
    "tags": []
   },
   "outputs": [
    {
     "name": "stdout",
     "output_type": "stream",
     "text": [
      "最適化されたパラメータ: [1.0e+01 1.3e+06 2.5e-01]\n"
     ]
    }
   ],
   "source": [
    "# 実験データの準備 (例としてダミーデータ)\n",
    "SRIP_data = np.random.randn(6, 5) * 1e6\n",
    "t_data = np.array([24*i for i in range(6)])\n",
    "\n",
    "# 微分方程式系の定義\n",
    "def model(t, y, Ser, X_max, k):\n",
    "    X, DNA, RNA, SRIP = y\n",
    "    if X < 0:\n",
    "        X = 0\n",
    "    dXdt = P * X * (X_max - X) / X_max * Ser / (Ser + K_ser) - const * SRIP\n",
    "    dDNAdt = -k_DNA * DNA\n",
    "    dRNAdt = k_s * DNA - k_dRNA * RNA\n",
    "    dSRIPdt = k_vp * RNA / (RNA + K_RNA) * X\n",
    "    \n",
    "    return [dXdt, dDNAdt, dRNAdt, dSRIPdt]\n",
    "\n",
    "# curve_fit用の関数\n",
    "def fit_function(t, Ser, X_max, k):\n",
    "    sol = solve_ivp(model, [min(t), max(t)], y0, args=(Ser, X_max, k), t_eval=t, method='RK45')\n",
    "    return sol.y[-1]\n",
    "\n",
    "# curve_fitの実行\n",
    "y0 = [0.2 * 1e6, 2.0 * 1e11, 0.0, 0]  # X, DNA, RNA, SRIP\n",
    "initial_guess = [10, 1.0e6, 0.25]\n",
    "bounds = [(0, 1e3), (0, 1.3 * 1e6), (0, 1)]\n",
    "# popt, _ = curve_fit(fit_function, t_data, np.mean(SRIP_data, axis=1), p0=initial_guess, bounds=np.array(bounds).T)\n",
    "popt, _ = curve_fit(fit_function, t_data, data[:, 0], p0=initial_guess, bounds=np.array(bounds).T)\n",
    "\n",
    "\n",
    "print(\"最適化されたパラメータ:\", popt)"
   ]
  },
  {
   "cell_type": "code",
   "execution_count": 74,
   "id": "2c763e32-76ec-41e8-b7e4-9db39ff35b6b",
   "metadata": {
    "tags": []
   },
   "outputs": [
    {
     "data": {
      "image/png": "[encoded data removed]",
      "text/plain": [
       "<Figure size 640x480 with 1 Axes>"
      ]
     },
     "metadata": {},
     "output_type": "display_data"
    }
   ],
   "source": [
    "# solve_ivpで得られたシミュレーション結果をプロット\n",
    "Ser, X_max, k = popt\n",
    "\n",
    "# 微分方程式系の定義\n",
    "def model(t, y, Ser, X_max, k):\n",
    "    X, DNA, RNA, SRIP = y\n",
    "    if X < 0:\n",
    "        X = 0\n",
    "    dXdt = P * X * (X_max - X) / X_max * Ser / (Ser + K_ser) - const * SRIP\n",
    "    dDNAdt = -k_DNA * DNA\n",
    "    dRNAdt = k_s * DNA - k_dRNA * RNA\n",
    "    # dSRIPdt = k_vp * RNA / (RNA + K_RNA) * X - k_a * SRIP * X\n",
    "    dSRIPdt = k_vp * RNA / (RNA + K_RNA) * X\n",
    "    \n",
    "    return [dXdt, dDNAdt, dRNAdt, dSRIPdt]\n",
    "\n",
    "y0 = [0.2 * 1e6, 2.0 * 1e11, 0.0, 0]  # X, DNA, RNA, SRIP\n",
    "sol = solve_ivp(model, [t_min, t_end], y0, args=(Ser, X_max, k), t_eval=t_data, method='RK45')\n",
    "\n",
    "# 実験データをプロット\n",
    "# エラーバーを含める場合は、各サンプルの標準偏差や標準誤差を計算\n",
    "mean_srip_data = np.mean(data, axis=1)  # 各時間点での平均値\n",
    "std_srip_data = np.std(data, axis=1)  # 各時間点での標準偏差\n",
    "\n",
    "fig = plt.figure()\n",
    "ax = fig.add_subplot(1, 1, 1)\n",
    "ax.plot(sol.t, sol.y[-1], label='Model - SRIP', linestyle='dashed')\n",
    "ax.errorbar(t_data, mean_srip_data, yerr=std_srip_data, fmt='o', label='Experimental - SRIP')\n",
    "\n",
    "# グラフの設定\n",
    "ax.set_xlabel('Time')\n",
    "ax.set_ylabel('SRIP')\n",
    "ax.legend(loc='best')\n",
    "ax.set_ylim(0, 5e5)\n",
    "plt.show()"
   ]
  },
  {
   "cell_type": "code",
   "execution_count": null,
   "id": "0ec3bfb8-2fc0-4b4c-9231-f9fcae5a3a07",
   "metadata": {},
   "outputs": [],
   "source": []
  }
 ],
 "metadata": {
  "kernelspec": {
   "display_name": "Python 3 (ipykernel)",
   "language": "python",
   "name": "python3"
  },
  "language_info": {
   "codemirror_mode": {
    "name": "ipython",
    "version": 3
   },
   "file_extension": ".py",
   "mimetype": "text/x-python",
   "name": "python",
   "nbconvert_exporter": "python",
   "pygments_lexer": "ipython3",
   "version": "3.9.7"
  }
 },
 "nbformat": 4,
 "nbformat_minor": 5
}
