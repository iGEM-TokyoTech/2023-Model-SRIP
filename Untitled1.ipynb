{
 "cells": [
  {
   "cell_type": "code",
   "execution_count": 1,
   "id": "3a97fdac-6375-443e-980c-d74595075d1e",
   "metadata": {
    "tags": []
   },
   "outputs": [],
   "source": [
    "import numpy as np\n",
    "from scipy.integrate import solve_ivp\n",
    "from time import time\n",
    "import matplotlib.pyplot as plt\n",
    "import pandas as pd\n",
    "import math\n",
    "from scipy.optimize import minimize, curve_fit\n",
    "\n",
    "# import cupy as cp"
   ]
  },
  {
   "cell_type": "code",
   "execution_count": 2,
   "id": "28c6fcd1-017d-4304-9a77-a62654463918",
   "metadata": {
    "tags": []
   },
   "outputs": [],
   "source": [
    "t_start = 0\n",
    "t_end = 24 * 6"
   ]
  },
  {
   "cell_type": "code",
   "execution_count": 3,
   "id": "3497c1b8-de6d-40eb-b997-206e29f35a97",
   "metadata": {
    "tags": []
   },
   "outputs": [],
   "source": [
    "data = pd.read_csv('experiment.csv')\n",
    "data = [[0] + data[str(i)].to_list()[:6] for i in range(1, 4)]\n",
    "data = [[data[0][i], data[1][i], data[2][i]] for i in range(6)]\n",
    "data = np.cumsum(data, axis=0)\n",
    "\n",
    "SRIP_data = np.mean(data, axis=1)  # 各時間点での平均値\n",
    "std_srip_data = np.std(data, axis=1)  # 各時間点での標準偏差\n",
    "\n",
    "t_data = np.array([24*i for i in range(6)])"
   ]
  },
  {
   "cell_type": "markdown",
   "id": "e78e8325-0f9e-4560-a4e0-cf7168b5d835",
   "metadata": {},
   "source": [
    "# 実験データへの fitting"
   ]
  },
  {
   "cell_type": "code",
   "execution_count": 4,
   "id": "4578110f-a7c6-415c-aa13-6eeb4f6069ce",
   "metadata": {
    "tags": []
   },
   "outputs": [
    {
     "name": "stdout",
     "output_type": "stream",
     "text": [
      "[200000.0, 800000.0, 0.0, 0.0]\n"
     ]
    }
   ],
   "source": [
    "params_fix = [\n",
    "    # P,             X_max, Ser,    k_DNA,        \n",
    "    [math.log(2)/24, 1.3e6, 4.0e-4, math.log(2)/24]\n",
    "    ]\n",
    "P, X_max, Ser, k_DNA = params_fix[0]\n",
    "\n",
    "initial_objective_param = [\n",
    "    # 初期値は論文の値を参照\n",
    "    #K_Ser,  k_sRNA, k_dRNA, k_vp, K_RNA, k_t\n",
    "    [1.0e-5, 3e-2,   3e-2,   1e-2, 2e+3,  1e-2]\n",
    "    #fix,    fix,    fix,    TBD,  fix,   TBD\n",
    "    ]\n",
    "\n",
    "initial_conditions = [\n",
    "    #X_0,   DNA_0,  RNA_0, SRIP_0\n",
    "    [2.0e5, 2.0e11, 0.0,   0.0]\n",
    "    ]\n",
    "# bounds = [(1.0e-8, 1.0e-2), (3.0e-5, 3.0e+1), (3.0e-5, 3.0e+1), (1.0e-5, 1.0e+1), (2.0e+0, 2.0e+6), (1.0e-5, 1.0e+1)]\n",
    "\n",
    "P, X_max, Ser, k_DNA = params_fix[0]\n",
    "X_0, DNA_0, RNA_0, SRIP_0 = initial_conditions[0]\n",
    "\n",
    "initial_value = [X_0, DNA_0 / X_0 * 0.8, RNA_0, SRIP_0] # X, DNA, RNA, SRIP\n",
    "print(initial_value)"
   ]
  },
  {
   "cell_type": "code",
   "execution_count": 17,
   "id": "f4ac6acc-33ed-426e-8129-4a23b4b05789",
   "metadata": {
    "tags": []
   },
   "outputs": [
    {
     "name": "stdout",
     "output_type": "stream",
     "text": [
      "K_ser = 50000.0\n",
      "k_sRNA = 50000.0\n",
      "k_dRNA = 50000.0\n",
      "k_vp = 50000.0\n",
      "K_RNA = 50000.0\n",
      "k_t = 50000.0\n"
     ]
    }
   ],
   "source": [
    "# モデル定義\n",
    "def model_for(t, K_ser, k_sRNA, k_dRNA, k_vp, K_RNA, k_t):\n",
    "    def dydt(t, y):\n",
    "        X, DNA, RNA, SRIP = y\n",
    "        dXdt = P * X * (X_max - X) / X_max * Ser / (Ser + K_ser) - k_t * SRIP\n",
    "        dDNAdt = -k_DNA * DNA\n",
    "        dRNAdt = k_sRNA * DNA - k_dRNA * RNA\n",
    "        dSRIPdt = k_vp * RNA / (RNA + K_RNA) * X\n",
    "        return [dXdt, dDNAdt, dRNAdt, dSRIPdt]\n",
    "\n",
    "\n",
    "    def event(t, y):\n",
    "        return y[0]  # Xの値そのものを返す\n",
    "\n",
    "    event.terminal = True\n",
    "    event.direction = -1  # 下向きに0を通過する場合のみ検出\n",
    "\n",
    "\n",
    "    # 初期値と積分時間を設定\n",
    "    y0 = initial_value\n",
    "    t_span = (t[0], t[-1])\n",
    "    result = solve_ivp(dydt, t_span, y0, t_eval=t, events=event)\n",
    "\n",
    "    # SRIPの値を返す\n",
    "    return result.y[3]\n",
    "\n",
    "# 実験データ\n",
    "\n",
    "# パラメータの境界を設定\n",
    "# param_bounds = ([下限1, 下限2, 下限3, 下限4, 下限5, 下限6], [上限1, 上限2, 上限3, 上限4, 上限5, 上限6])\n",
    "param_bounds = ([0, 0, 0, 0, 0, 0], [1e5, 1e5, 1e5, 1e5, 1e5, 1e5])\n",
    "\n",
    "# curve_fitを用いてフィッティング\n",
    "params, covariance = curve_fit(model_for, t_data, SRIP_data, bounds=param_bounds)\n",
    "K_ser, k_sRNA, k_dRNA, k_vp, K_RNA, k_t = params\n",
    "\n",
    "print(f\"K_ser = {K_ser}\")\n",
    "print(f\"k_sRNA = {k_sRNA}\")\n",
    "print(f\"k_dRNA = {k_dRNA}\")\n",
    "print(f\"k_vp = {k_vp}\")\n",
    "print(f\"K_RNA = {K_RNA}\")\n",
    "print(f\"k_t = {k_t}\")"
   ]
  },
  {
   "cell_type": "code",
   "execution_count": 18,
   "id": "a72a8f55-9088-4287-b26c-7ab6e8922a5c",
   "metadata": {
    "tags": []
   },
   "outputs": [
    {
     "ename": "KeyboardInterrupt",
     "evalue": "",
     "output_type": "error",
     "traceback": [
      "\u001b[0;31m---------------------------------------------------------------------------\u001b[0m",
      "\u001b[0;31mKeyboardInterrupt\u001b[0m                         Traceback (most recent call last)",
      "Cell \u001b[0;32mIn[18], line 20\u001b[0m\n\u001b[1;32m     17\u001b[0m     \u001b[38;5;28;01mreturn\u001b[39;00m result\u001b[38;5;241m.\u001b[39my[\u001b[38;5;241m3\u001b[39m, :]\n\u001b[1;32m     19\u001b[0m \u001b[38;5;66;03m# フィット結果を計算\u001b[39;00m\n\u001b[0;32m---> 20\u001b[0m SRIP_fit \u001b[38;5;241m=\u001b[39m \u001b[43mmodel_for_plot\u001b[49m\u001b[43m(\u001b[49m\u001b[43mt_fine\u001b[49m\u001b[43m,\u001b[49m\u001b[43m \u001b[49m\u001b[43mK_ser\u001b[49m\u001b[43m,\u001b[49m\u001b[43m \u001b[49m\u001b[43mk_sRNA\u001b[49m\u001b[43m,\u001b[49m\u001b[43m \u001b[49m\u001b[43mk_dRNA\u001b[49m\u001b[43m,\u001b[49m\u001b[43m \u001b[49m\u001b[43mk_vp\u001b[49m\u001b[43m,\u001b[49m\u001b[43m \u001b[49m\u001b[43mK_RNA\u001b[49m\u001b[43m,\u001b[49m\u001b[43m \u001b[49m\u001b[43mk_t\u001b[49m\u001b[43m)\u001b[49m\n\u001b[1;32m     22\u001b[0m \u001b[38;5;66;03m# プロット\u001b[39;00m\n\u001b[1;32m     23\u001b[0m plt\u001b[38;5;241m.\u001b[39mplot(t_data, SRIP_data, \u001b[38;5;124m'\u001b[39m\u001b[38;5;124mo\u001b[39m\u001b[38;5;124m'\u001b[39m, label\u001b[38;5;241m=\u001b[39m\u001b[38;5;124m'\u001b[39m\u001b[38;5;124m実験データ\u001b[39m\u001b[38;5;124m'\u001b[39m)\n",
      "Cell \u001b[0;32mIn[18], line 14\u001b[0m, in \u001b[0;36mmodel_for_plot\u001b[0;34m(t, K_ser, k_sRNA, k_dRNA, k_vp, K_RNA, k_t)\u001b[0m\n\u001b[1;32m     12\u001b[0m y0 \u001b[38;5;241m=\u001b[39m initial_value\n\u001b[1;32m     13\u001b[0m t_span \u001b[38;5;241m=\u001b[39m (t[\u001b[38;5;241m0\u001b[39m], t[\u001b[38;5;241m-\u001b[39m\u001b[38;5;241m1\u001b[39m])\n\u001b[0;32m---> 14\u001b[0m result \u001b[38;5;241m=\u001b[39m \u001b[43msolve_ivp\u001b[49m\u001b[43m(\u001b[49m\u001b[43mdydt\u001b[49m\u001b[43m,\u001b[49m\u001b[43m \u001b[49m\u001b[43mt_span\u001b[49m\u001b[43m,\u001b[49m\u001b[43m \u001b[49m\u001b[43my0\u001b[49m\u001b[43m,\u001b[49m\u001b[43m \u001b[49m\u001b[43mt_eval\u001b[49m\u001b[38;5;241;43m=\u001b[39;49m\u001b[43mt\u001b[49m\u001b[43m)\u001b[49m\n\u001b[1;32m     16\u001b[0m \u001b[38;5;66;03m# SRIPの値を返す\u001b[39;00m\n\u001b[1;32m     17\u001b[0m \u001b[38;5;28;01mreturn\u001b[39;00m result\u001b[38;5;241m.\u001b[39my[\u001b[38;5;241m3\u001b[39m, :]\n",
      "File \u001b[0;32m/usr/local/lib/python3.9/site-packages/scipy/integrate/_ivp/ivp.py:602\u001b[0m, in \u001b[0;36msolve_ivp\u001b[0;34m(fun, t_span, y0, method, t_eval, dense_output, events, vectorized, args, **options)\u001b[0m\n\u001b[1;32m    600\u001b[0m status \u001b[38;5;241m=\u001b[39m \u001b[38;5;28;01mNone\u001b[39;00m\n\u001b[1;32m    601\u001b[0m \u001b[38;5;28;01mwhile\u001b[39;00m status \u001b[38;5;129;01mis\u001b[39;00m \u001b[38;5;28;01mNone\u001b[39;00m:\n\u001b[0;32m--> 602\u001b[0m     message \u001b[38;5;241m=\u001b[39m \u001b[43msolver\u001b[49m\u001b[38;5;241;43m.\u001b[39;49m\u001b[43mstep\u001b[49m\u001b[43m(\u001b[49m\u001b[43m)\u001b[49m\n\u001b[1;32m    604\u001b[0m     \u001b[38;5;28;01mif\u001b[39;00m solver\u001b[38;5;241m.\u001b[39mstatus \u001b[38;5;241m==\u001b[39m \u001b[38;5;124m'\u001b[39m\u001b[38;5;124mfinished\u001b[39m\u001b[38;5;124m'\u001b[39m:\n\u001b[1;32m    605\u001b[0m         status \u001b[38;5;241m=\u001b[39m \u001b[38;5;241m0\u001b[39m\n",
      "File \u001b[0;32m/usr/local/lib/python3.9/site-packages/scipy/integrate/_ivp/base.py:197\u001b[0m, in \u001b[0;36mOdeSolver.step\u001b[0;34m(self)\u001b[0m\n\u001b[1;32m    195\u001b[0m \u001b[38;5;28;01melse\u001b[39;00m:\n\u001b[1;32m    196\u001b[0m     t \u001b[38;5;241m=\u001b[39m \u001b[38;5;28mself\u001b[39m\u001b[38;5;241m.\u001b[39mt\n\u001b[0;32m--> 197\u001b[0m     success, message \u001b[38;5;241m=\u001b[39m \u001b[38;5;28;43mself\u001b[39;49m\u001b[38;5;241;43m.\u001b[39;49m\u001b[43m_step_impl\u001b[49m\u001b[43m(\u001b[49m\u001b[43m)\u001b[49m\n\u001b[1;32m    199\u001b[0m     \u001b[38;5;28;01mif\u001b[39;00m \u001b[38;5;129;01mnot\u001b[39;00m success:\n\u001b[1;32m    200\u001b[0m         \u001b[38;5;28mself\u001b[39m\u001b[38;5;241m.\u001b[39mstatus \u001b[38;5;241m=\u001b[39m \u001b[38;5;124m'\u001b[39m\u001b[38;5;124mfailed\u001b[39m\u001b[38;5;124m'\u001b[39m\n",
      "File \u001b[0;32m/usr/local/lib/python3.9/site-packages/scipy/integrate/_ivp/rk.py:144\u001b[0m, in \u001b[0;36mRungeKutta._step_impl\u001b[0;34m(self)\u001b[0m\n\u001b[1;32m    141\u001b[0m h \u001b[38;5;241m=\u001b[39m t_new \u001b[38;5;241m-\u001b[39m t\n\u001b[1;32m    142\u001b[0m h_abs \u001b[38;5;241m=\u001b[39m np\u001b[38;5;241m.\u001b[39mabs(h)\n\u001b[0;32m--> 144\u001b[0m y_new, f_new \u001b[38;5;241m=\u001b[39m \u001b[43mrk_step\u001b[49m(\u001b[38;5;28mself\u001b[39m\u001b[38;5;241m.\u001b[39mfun, t, y, \u001b[38;5;28mself\u001b[39m\u001b[38;5;241m.\u001b[39mf, h, \u001b[38;5;28mself\u001b[39m\u001b[38;5;241m.\u001b[39mA,\n\u001b[1;32m    145\u001b[0m                        \u001b[38;5;28mself\u001b[39m\u001b[38;5;241m.\u001b[39mB, \u001b[38;5;28mself\u001b[39m\u001b[38;5;241m.\u001b[39mC, \u001b[38;5;28mself\u001b[39m\u001b[38;5;241m.\u001b[39mK)\n\u001b[1;32m    146\u001b[0m scale \u001b[38;5;241m=\u001b[39m atol \u001b[38;5;241m+\u001b[39m np\u001b[38;5;241m.\u001b[39mmaximum(np\u001b[38;5;241m.\u001b[39mabs(y), np\u001b[38;5;241m.\u001b[39mabs(y_new)) \u001b[38;5;241m*\u001b[39m rtol\n\u001b[1;32m    147\u001b[0m error_norm \u001b[38;5;241m=\u001b[39m \u001b[38;5;28mself\u001b[39m\u001b[38;5;241m.\u001b[39m_estimate_error_norm(\u001b[38;5;28mself\u001b[39m\u001b[38;5;241m.\u001b[39mK, h, scale)\n",
      "\u001b[0;31mKeyboardInterrupt\u001b[0m: "
     ]
    }
   ],
   "source": [
    "def model_for_plot(t, K_ser, k_sRNA, k_dRNA, k_vp, K_RNA, k_t):\n",
    "    def dydt(t, y):\n",
    "        X, DNA, RNA, SRIP = y\n",
    "        dXdt = P * X * (X_max - X) / X_max * Ser / (Ser + K_ser) - k_t * SRIP\n",
    "        dDNAdt = -k_DNA * DNA\n",
    "        dRNAdt = k_sRNA * DNA - k_dRNA * RNA\n",
    "        dSRIPdt = k_vp * RNA / (RNA + K_RNA) * X\n",
    "        return [dXdt, dDNAdt, dRNAdt, dSRIPdt]\n",
    "\n",
    "\n",
    "    # 初期値と積分時間を設定\n",
    "    y0 = initial_value\n",
    "    t_span = (t[0], t[-1])\n",
    "    result = solve_ivp(dydt, t_span, y0, t_eval=t)\n",
    "\n",
    "    # SRIPの値を返す\n",
    "    return result.y[3, :]\n",
    "\n",
    "# フィット結果を計算\n",
    "SRIP_fit = model_for_plot(t_fine, K_ser, k_sRNA, k_dRNA, k_vp, K_RNA, k_t)\n",
    "\n",
    "# プロット\n",
    "plt.plot(t_data, SRIP_data, 'o', label='実験データ')\n",
    "plt.plot(t_fine, SRIP_fit, '-', label='フィット結果')\n",
    "plt.xlabel('時間')\n",
    "plt.ylabel('SRIP')\n",
    "plt.legend()\n",
    "plt.grid(True)\n",
    "plt.title('実験データとフィット結果の比較')\n",
    "plt.show()"
   ]
  },
  {
   "cell_type": "code",
   "execution_count": 14,
   "id": "d310658d-af30-4743-854a-5b2329f6d7e3",
   "metadata": {
    "tags": []
   },
   "outputs": [
    {
     "data": {
      "text/plain": [
       "array([0.])"
      ]
     },
     "execution_count": 14,
     "metadata": {},
     "output_type": "execute_result"
    }
   ],
   "source": [
    "SRIP_fit"
   ]
  },
  {
   "cell_type": "code",
   "execution_count": null,
   "id": "fb0e7adc-0769-49f3-92c8-be74e385e982",
   "metadata": {},
   "outputs": [],
   "source": []
  }
 ],
 "metadata": {
  "kernelspec": {
   "display_name": "Python 3 (ipykernel)",
   "language": "python",
   "name": "python3"
  },
  "language_info": {
   "codemirror_mode": {
    "name": "ipython",
    "version": 3
   },
   "file_extension": ".py",
   "mimetype": "text/x-python",
   "name": "python",
   "nbconvert_exporter": "python",
   "pygments_lexer": "ipython3",
   "version": "3.9.7"
  }
 },
 "nbformat": 4,
 "nbformat_minor": 5
}
