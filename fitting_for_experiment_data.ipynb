{
 "cells": [
  {
   "cell_type": "code",
   "execution_count": 1,
   "id": "57123528-edbd-42d3-9add-ebb8cc056666",
   "metadata": {
    "tags": []
   },
   "outputs": [],
   "source": [
    "import numpy as np\n",
    "from scipy.integrate import solve_ivp\n",
    "from time import time\n",
    "import matplotlib.pyplot as plt\n",
    "import pandas as pd\n",
    "import math\n",
    "from scipy.optimize import minimize\n",
    "from scipy.optimize import curve_fit, differential_evolution\n",
    "\n",
    "# import cupy as cp"
   ]
  },
  {
   "cell_type": "code",
   "execution_count": 2,
   "id": "3733cff0-33b3-4332-aae4-25755320b9b1",
   "metadata": {
    "tags": []
   },
   "outputs": [],
   "source": [
    "t_min = 0\n",
    "t_end = 24 * 5"
   ]
  },
  {
   "cell_type": "code",
   "execution_count": 3,
   "id": "e1e1682f-02ae-4d76-9d99-c07574a17ca2",
   "metadata": {
    "tags": []
   },
   "outputs": [],
   "source": [
    "data = pd.read_csv('experiment.csv')\n",
    "data = [[0] + data[str(i)].to_list()[:6] for i in range(1, 4)]\n",
    "data = [[data[0][i], data[1][i], data[2][i]] for i in range(6)]\n",
    "data = np.cumsum(data, axis=0)\n",
    "\n",
    "mean_srip_data = np.mean(data, axis=1)  # 各時間点での平均値\n",
    "std_srip_data = np.std(data, axis=1)  # 各時間点での標準偏差\n",
    "\n",
    "t_data = np.array([24*i for i in range(6)])"
   ]
  },
  {
   "cell_type": "code",
   "execution_count": 4,
   "id": "e7411d34-585f-4003-9f2f-e5dbc9a07fbd",
   "metadata": {
    "tags": []
   },
   "outputs": [
    {
     "data": {
      "text/plain": [
       "array([     0.        ,   5759.65620533, 201347.98150533, 215747.122017  ,\n",
       "       238785.7468379 , 239505.70386347])"
      ]
     },
     "execution_count": 4,
     "metadata": {},
     "output_type": "execute_result"
    }
   ],
   "source": [
    "mean_srip_data"
   ]
  },
  {
   "cell_type": "code",
   "execution_count": 5,
   "id": "8213731b-ac7d-4bc2-8a53-24cf6495c980",
   "metadata": {
    "tags": []
   },
   "outputs": [],
   "source": [
    "def model(t, y, P, X_max, Ser, K_ser, k_DNA, k_sRNA, k_dRNA, k_vp, K_RNA, k_t):\n",
    "    X, DNA, RNA, SRIP = y\n",
    "    if X < 0:\n",
    "        X = 0\n",
    "    dXdt = P * X * (X_max - X) / X_max * Ser / (Ser + K_ser) - k_t * SRIP\n",
    "    dDNAdt = -k_DNA * DNA\n",
    "    dRNAdt = k_sRNA * DNA - k_dRNA * RNA\n",
    "    dSRIPdt = k_vp * RNA / (RNA + K_RNA) * X\n",
    "    \n",
    "    return [dXdt, dDNAdt, dRNAdt, dSRIPdt]"
   ]
  },
  {
   "cell_type": "code",
   "execution_count": 6,
   "id": "6cd5f104-2d7d-4dce-99db-0f94478cb745",
   "metadata": {
    "tags": []
   },
   "outputs": [],
   "source": [
    "params_fix = [\n",
    "    # P,             X_max, Ser, k_DNA,        \n",
    "    [math.log(2)/24, 1.3e6, 42,   math.log(2)/24]\n",
    "    ]\n",
    "\n",
    "params = [\n",
    "    #K_ser, k_sRNA, k_dRNA, k_vp, K_RNA, k_t\n",
    "    [1,     1,      1,      1,    1,     1],\n",
    "    ]\n",
    "\n",
    "X_0 = 2e5\n",
    "DNA_0 = 2.0 * 1e11 / X_0 * 0.8\n",
    "RNA_0 = 0.0  # Okumura\n",
    "SRIP_0 = 0.0  # SRIPの初期値を適切に設定してください\n",
    "y0 = [X_0, DNA_0, RNA_0, SRIP_0] # X, DNA, RNA, SRIP"
   ]
  },
  {
   "cell_type": "code",
   "execution_count": 8,
   "id": "be3e9bd9-3de1-44f1-975b-c228ff068e9c",
   "metadata": {
    "tags": []
   },
   "outputs": [
    {
     "data": {
      "text/plain": [
       "<matplotlib.legend.Legend at 0xffff75a8aa30>"
      ]
     },
     "execution_count": 8,
     "metadata": {},
     "output_type": "execute_result"
    },
    {
     "data": {
      "image/png": "[encoded data removed]",
      "text/plain": [
       "<Figure size 640x480 with 1 Axes>"
      ]
     },
     "metadata": {},
     "output_type": "display_data"
    }
   ],
   "source": [
    "results = []\n",
    "\n",
    "fig = plt.figure()\n",
    "ax = fig.add_subplot(1, 1, 1)\n",
    "\n",
    "for param in params:\n",
    "    P, X_max, Ser, k_DNA = params_fix[0]\n",
    "    K_ser, k_sRNA, k_dRNA, k_vp, K_RNA, k_t = param\n",
    "    \n",
    "    results.append(solve_ivp(model, [t_min, t_end], y0, args=(P, X_max, Ser, K_ser, k_DNA, k_sRNA, k_dRNA, k_vp, K_RNA, k_t), t_eval=np.linspace(t_min, t_end, 1000), method='RK45'))\n",
    "    \n",
    "    ax.plot(results[-1].t, results[-1].y[3], label=f'param: params={K_ser, k_sRNA, k_dRNA, k_vp, K_RNA, k_t}')\n",
    "\n",
    "\n",
    "for i in range(6):\n",
    "    datum = data[i]\n",
    "    for j in range(len(data[i])):\n",
    "        ax.plot(24 * i, datum[j], '.', color='black')\n",
    "\n",
    "ax.errorbar(t_data, mean_srip_data, yerr=std_srip_data, fmt='o', label='Experimental - SRIP', color='gray')\n",
    "\n",
    "ax.set_title('Effect of X_max on SRIP')\n",
    "ax.set_ylim(0, 5e5)\n",
    "ax.legend()"
   ]
  },
  {
   "cell_type": "markdown",
   "id": "26bbb8f5-a5b9-43c3-8aca-162a9f72d2a1",
   "metadata": {},
   "source": [
    "# fitting"
   ]
  },
  {
   "cell_type": "code",
   "execution_count": 9,
   "id": "6fca7e8f-fe2b-42d2-8bdc-7ecc520f1156",
   "metadata": {
    "tags": []
   },
   "outputs": [],
   "source": [
    "def model_for_fit(t, y, K_ser, k_sRNA, k_dRNA, k_vp, K_RNA, k_t):\n",
    "    X, DNA, RNA, SRIP = y\n",
    "    if X < 0:\n",
    "        X = 0\n",
    "    dXdt = P * X * (X_max - X) / X_max * Ser / (Ser + K_ser) - k_t * SRIP\n",
    "    dDNAdt = -k_DNA * DNA\n",
    "    dRNAdt = k_sRNA * DNA - k_dRNA * RNA\n",
    "    dSRIPdt = k_vp * RNA / (RNA + K_RNA) * X\n",
    "    \n",
    "    return [dXdt, dDNAdt, dRNAdt, dSRIPdt]"
   ]
  },
  {
   "cell_type": "code",
   "execution_count": 27,
   "id": "d810380a-aa39-407c-937e-842960d62b07",
   "metadata": {
    "tags": []
   },
   "outputs": [],
   "source": [
    "params_fix = [\n",
    "    # P,             X_max, Ser, k_DNA,        \n",
    "    [math.log(2)/24, 1.3e6, 42,   math.log(2)/24]\n",
    "    ]\n",
    "\n",
    "initial_param = [\n",
    "    #K_ser, k_sRNA, k_dRNA, k_vp, K_RNA, k_t\n",
    "    [5e+1,  3e-2,   3e-2,   1e-2, 2e+3,  1e-2]\n",
    "    #Un,    fix,    fix,    TBD,  fix,   TBD\n",
    "    ]\n",
    "bounds = [(0, 1e+5), (0, 1e+5), (0, 1e+5), (0, 1e+5), (0, 1e+5), (0, 1e+5)]\n",
    "\n",
    "X_0 = 2e5\n",
    "DNA_0 = 2.0 * 1e11 / X_0 * 0.8\n",
    "RNA_0 = 0.0  # Okumura\n",
    "SRIP_0 = 0.0  # SRIPの初期値を適切に設定してください\n",
    "y0 = [X_0, DNA_0, RNA_0, SRIP_0] # X, DNA, RNA, SRIP"
   ]
  },
  {
   "cell_type": "markdown",
   "id": "c8434811-a0c0-479d-aead-8a33f1bfbd48",
   "metadata": {
    "tags": []
   },
   "source": [
    "# curve_fitを使用"
   ]
  },
  {
   "cell_type": "code",
   "execution_count": 28,
   "id": "a4255461-be2d-4f96-bfca-3c65b2df847e",
   "metadata": {
    "tags": []
   },
   "outputs": [
    {
     "name": "stdout",
     "output_type": "stream",
     "text": [
      "最適化されたパラメータ(full): [3.94914730e+01 3.66022839e+00 6.21741143e-01 1.43215087e-02\n",
      " 2.14414723e+03 3.10671193e-02]\n"
     ]
    },
    {
     "data": {
      "text/plain": [
       "<matplotlib.legend.Legend at 0xffff755a5c70>"
      ]
     },
     "execution_count": 28,
     "metadata": {},
     "output_type": "execute_result"
    },
    {
     "data": {
      "image/png": "[encoded data removed]",
      "text/plain": [
       "<Figure size 640x480 with 1 Axes>"
      ]
     },
     "metadata": {},
     "output_type": "display_data"
    }
   ],
   "source": [
    "def fit_function(t, K_ser, k_sRNA, k_dRNA, k_vp, K_RNA, k_t):\n",
    "    sol = solve_ivp(model_for_fit, [t_min, t_end], y0, args=(K_ser, k_sRNA, k_dRNA, k_vp, K_RNA, k_t), t_eval=t, method='RK45')\n",
    "    \n",
    "    return sol.y[-1]\n",
    "\n",
    "popt_clip, _ = curve_fit(fit_function, t_data, (data[:, 0] + data[:, 2])/2, p0=initial_param[0], bounds=np.array(bounds).T)\n",
    "popt_full, _ = curve_fit(fit_function, t_data, mean_srip_data, p0=initial_param[0], bounds=np.array(bounds).T)\n",
    "\n",
    "# print('initial:', initial_param)\n",
    "print('最適化されたパラメータ(full):', popt_full)\n",
    "\n",
    "results = []\n",
    "\n",
    "fig = plt.figure()\n",
    "ax = fig.add_subplot(1, 1, 1)\n",
    "\n",
    "P, X_max, Ser, k_DNA = params_fix[0]\n",
    "\n",
    "K_ser, k_sRNA, k_dRNA, k_vp, K_RNA, k_t = popt_clip\n",
    "results.append(solve_ivp(model, [t_min, t_end], y0, args=(P, X_max, Ser, K_ser, k_DNA, k_sRNA, k_dRNA, k_vp, K_RNA, k_t), t_eval=np.linspace(t_min, t_end, 1000), method='RK45'))\n",
    "\n",
    "K_ser, k_sRNA, k_dRNA, k_vp, K_RNA, k_t = popt_full\n",
    "results.append(solve_ivp(model, [t_min, t_end], y0, args=(P, X_max, Ser, K_ser, k_DNA, k_sRNA, k_dRNA, k_vp, K_RNA, k_t), t_eval=np.linspace(t_min, t_end, 1000), method='RK45'))\n",
    "\n",
    "ax.plot(results[0].t, results[0].y[3], label=f'n=1, 3')\n",
    "ax.plot(results[1].t, results[1].y[3], label=f'n=1, 2, 3')\n",
    "\n",
    "for i in range(6):\n",
    "    datum = data[i]\n",
    "    for j in range(len(data[i])):\n",
    "        ax.plot(24 * i, datum[j], '.', color='black')\n",
    "\n",
    "ax.errorbar(t_data, mean_srip_data, yerr=std_srip_data, fmt='o', label='Experimental - SRIP', color='gray')\n",
    "\n",
    "ax.set_title('Effect of Ks on SRIP')\n",
    "ax.set_ylim(0, 5e5)\n",
    "ax.legend()"
   ]
  },
  {
   "cell_type": "markdown",
   "id": "6b32e6fc-1232-47d9-8d4a-d51154042b4f",
   "metadata": {},
   "source": [
    "# 初期値を探索する"
   ]
  },
  {
   "cell_type": "code",
   "execution_count": 226,
   "id": "24908b64-3444-47df-b37b-cd927cc01460",
   "metadata": {
    "tags": []
   },
   "outputs": [
    {
     "name": "stdout",
     "output_type": "stream",
     "text": [
      "10\n",
      "20\n",
      "30\n",
      "40\n",
      "50\n",
      "60\n",
      "70\n",
      "80\n",
      "90\n",
      "100\n",
      "110\n",
      "120\n",
      "130\n",
      "140\n",
      "150\n",
      "160\n",
      "170\n",
      "180\n",
      "190\n"
     ]
    },
    {
     "ename": "RuntimeError",
     "evalue": "Optimal parameters not found: The maximum number of function evaluations is exceeded.",
     "output_type": "error",
     "traceback": [
      "\u001b[0;31m---------------------------------------------------------------------------\u001b[0m",
      "\u001b[0;31mRuntimeError\u001b[0m                              Traceback (most recent call last)",
      "Cell \u001b[0;32mIn[226], line 24\u001b[0m\n\u001b[1;32m     22\u001b[0m \u001b[38;5;28;01mfor\u001b[39;00m k_t \u001b[38;5;129;01min\u001b[39;00m k_t_range:\n\u001b[1;32m     23\u001b[0m     p0_grid \u001b[38;5;241m=\u001b[39m [K_ser, k_sRNA, k_dRNA, k_vp, K_RNA, k_t]  \u001b[38;5;66;03m# 現在の組み合わせを初期値として使用\u001b[39;00m\n\u001b[0;32m---> 24\u001b[0m     popt, pcov \u001b[38;5;241m=\u001b[39m \u001b[43mcurve_fit\u001b[49m\u001b[43m(\u001b[49m\u001b[43mfit_function\u001b[49m\u001b[43m,\u001b[49m\u001b[43m \u001b[49m\u001b[43mt_data\u001b[49m\u001b[43m,\u001b[49m\u001b[43m \u001b[49m\u001b[43mdata\u001b[49m\u001b[43m[\u001b[49m\u001b[43m:\u001b[49m\u001b[43m,\u001b[49m\u001b[43m \u001b[49m\u001b[38;5;241;43m0\u001b[39;49m\u001b[43m]\u001b[49m\u001b[43m,\u001b[49m\u001b[43m \u001b[49m\u001b[43mp0\u001b[49m\u001b[38;5;241;43m=\u001b[39;49m\u001b[43mp0_grid\u001b[49m\u001b[43m,\u001b[49m\u001b[43m \u001b[49m\u001b[43mbounds\u001b[49m\u001b[38;5;241;43m=\u001b[39;49m\u001b[43mnp\u001b[49m\u001b[38;5;241;43m.\u001b[39;49m\u001b[43marray\u001b[49m\u001b[43m(\u001b[49m\u001b[43mbounds\u001b[49m\u001b[43m)\u001b[49m\u001b[38;5;241;43m.\u001b[39;49m\u001b[43mT\u001b[49m\u001b[43m)\u001b[49m\n\u001b[1;32m     26\u001b[0m     \u001b[38;5;66;03m# 現在のフィットの良さを計算（例: 残差平方和）\u001b[39;00m\n\u001b[1;32m     27\u001b[0m     residual \u001b[38;5;241m=\u001b[39m np\u001b[38;5;241m.\u001b[39msum((data[:, \u001b[38;5;241m0\u001b[39m] \u001b[38;5;241m-\u001b[39m fit_function(t_data, \u001b[38;5;241m*\u001b[39mpopt))\u001b[38;5;241m*\u001b[39m\u001b[38;5;241m*\u001b[39m\u001b[38;5;241m2\u001b[39m)\n",
      "File \u001b[0;32m/usr/local/lib/python3.9/site-packages/scipy/optimize/_minpack_py.py:978\u001b[0m, in \u001b[0;36mcurve_fit\u001b[0;34m(f, xdata, ydata, p0, sigma, absolute_sigma, check_finite, bounds, method, jac, full_output, nan_policy, **kwargs)\u001b[0m\n\u001b[1;32m    974\u001b[0m res \u001b[38;5;241m=\u001b[39m least_squares(func, p0, jac\u001b[38;5;241m=\u001b[39mjac, bounds\u001b[38;5;241m=\u001b[39mbounds, method\u001b[38;5;241m=\u001b[39mmethod,\n\u001b[1;32m    975\u001b[0m                     \u001b[38;5;241m*\u001b[39m\u001b[38;5;241m*\u001b[39mkwargs)\n\u001b[1;32m    977\u001b[0m \u001b[38;5;28;01mif\u001b[39;00m \u001b[38;5;129;01mnot\u001b[39;00m res\u001b[38;5;241m.\u001b[39msuccess:\n\u001b[0;32m--> 978\u001b[0m     \u001b[38;5;28;01mraise\u001b[39;00m \u001b[38;5;167;01mRuntimeError\u001b[39;00m(\u001b[38;5;124m\"\u001b[39m\u001b[38;5;124mOptimal parameters not found: \u001b[39m\u001b[38;5;124m\"\u001b[39m \u001b[38;5;241m+\u001b[39m res\u001b[38;5;241m.\u001b[39mmessage)\n\u001b[1;32m    980\u001b[0m infodict \u001b[38;5;241m=\u001b[39m \u001b[38;5;28mdict\u001b[39m(nfev\u001b[38;5;241m=\u001b[39mres\u001b[38;5;241m.\u001b[39mnfev, fvec\u001b[38;5;241m=\u001b[39mres\u001b[38;5;241m.\u001b[39mfun)\n\u001b[1;32m    981\u001b[0m ier \u001b[38;5;241m=\u001b[39m res\u001b[38;5;241m.\u001b[39mstatus\n",
      "\u001b[0;31mRuntimeError\u001b[0m: Optimal parameters not found: The maximum number of function evaluations is exceeded."
     ]
    }
   ],
   "source": [
    "# 1. 各パラメータの探索範囲を定義\n",
    "step_size = 4\n",
    "K_ser_range = np.linspace(1e-3, 1e-2, step_size)\n",
    "k_sRNA_range = np.linspace(1e-1, 1e+0, step_size)\n",
    "k_dRNA_range = np.linspace(1e-3, 3e-2, step_size)\n",
    "k_vp_range = np.linspace(1e-2, 5e-2, step_size)\n",
    "K_RNA_range = np.linspace(1e-2, 1e+1, step_size)\n",
    "k_t_range = np.linspace(1e-3, 1e-1, step_size) \n",
    "\n",
    "cnt = 0\n",
    "\n",
    "# 最良のフィットを追跡するための変数\n",
    "best_fit = np.inf\n",
    "best_params = None\n",
    "\n",
    "# 2. 全ての組み合わせに対してモデルのフィットを実行\n",
    "for K_ser in K_ser_range:\n",
    "    for k_sRNA in k_sRNA_range:\n",
    "        for k_dRNA in k_dRNA_range:\n",
    "            for k_vp in k_vp_range:\n",
    "                for K_RNA in K_RNA_range:\n",
    "                    for k_t in k_t_range:\n",
    "                        p0_grid = [K_ser, k_sRNA, k_dRNA, k_vp, K_RNA, k_t]  # 現在の組み合わせを初期値として使用\n",
    "                        popt, pcov = curve_fit(fit_function, t_data, data[:, 0], p0=p0_grid, bounds=np.array(bounds).T)\n",
    "\n",
    "                        # 現在のフィットの良さを計算（例: 残差平方和）\n",
    "                        residual = np.sum((data[:, 0] - fit_function(t_data, *popt))**2)\n",
    "\n",
    "                        # 最良のフィットを更新\n",
    "                        if residual < best_fit:\n",
    "                            best_fit = residual\n",
    "                            best_params = popt\n",
    "                        \n",
    "                        cnt += 1\n",
    "                        print(cnt) if cnt % 10 == 0 else None\n",
    "\n",
    "# 3. 最も良いフィットを示すパラメータの組み合わせを出力\n",
    "print(\"Best fit parameters:\", best_params)"
   ]
  },
  {
   "cell_type": "markdown",
   "id": "71c111a6-a38a-4d8f-a258-19b88f871db0",
   "metadata": {},
   "source": [
    "# differential_evolution"
   ]
  },
  {
   "cell_type": "code",
   "execution_count": 130,
   "id": "8229efbd-812d-4c77-b482-9d6d84e93921",
   "metadata": {
    "tags": []
   },
   "outputs": [],
   "source": [
    "# def objective_function(params):\n",
    "#     sol = solve_ivp(model_for_fit, [t_min, t_end], y0, args=tuple(params), t_eval=t_data, method='RK45')\n",
    "#     # 二乗誤差を計算\n",
    "#     return np.sum((sol.y[-1] - data[:, 0])**2)\n",
    "\n",
    "# bounds = [(0, 1e2), (0, 1e2), (0, 1e2), (0, 1e2), (0, 1e2), (0, 1e2)]\n",
    "# result = differential_evolution(objective_function, bounds)\n",
    "\n",
    "\n",
    "# optimized_params = result.x\n",
    "# print(\"最適化されたパラメータ:\", optimized_params)"
   ]
  },
  {
   "cell_type": "code",
   "execution_count": null,
   "id": "c302e60c-15d4-4859-9997-2bafc9703e1c",
   "metadata": {},
   "outputs": [],
   "source": []
  }
 ],
 "metadata": {
  "kernelspec": {
   "display_name": "Python 3 (ipykernel)",
   "language": "python",
   "name": "python3"
  },
  "language_info": {
   "codemirror_mode": {
    "name": "ipython",
    "version": 3
   },
   "file_extension": ".py",
   "mimetype": "text/x-python",
   "name": "python",
   "nbconvert_exporter": "python",
   "pygments_lexer": "ipython3",
   "version": "3.9.7"
  }
 },
 "nbformat": 4,
 "nbformat_minor": 5
}
